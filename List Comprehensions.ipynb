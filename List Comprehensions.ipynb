{
 "cells": [
  {
   "cell_type": "code",
   "execution_count": 1,
   "metadata": {
    "executionInfo": {
     "elapsed": 410,
     "status": "ok",
     "timestamp": 1739775715593,
     "user": {
      "displayName": "Abdulrahim alj",
      "userId": "17414816726114892880"
     },
     "user_tz": -180
    },
    "id": "_n1H_4J2tjqf"
   },
   "outputs": [],
   "source": [
    "import os\n"
   ]
  },
  {
   "cell_type": "markdown",
   "metadata": {
    "id": "PVqw4n7Nt3Mp"
   },
   "source": [
    "#1. Use a list comprehension to create and print a list of consecutive integers starting with 1 and ending with 50.\n",
    "\n"
   ]
  },
  {
   "cell_type": "code",
   "execution_count": 2,
   "metadata": {
    "colab": {
     "base_uri": "https://localhost:8080/"
    },
    "executionInfo": {
     "elapsed": 356,
     "status": "ok",
     "timestamp": 1739775901865,
     "user": {
      "displayName": "Abdulrahim alj",
      "userId": "17414816726114892880"
     },
     "user_tz": -180
    },
    "id": "bcog9iNVtsQg",
    "outputId": "3be60141-95cb-4552-bea7-9ae191f68fbf"
   },
   "outputs": [
    {
     "name": "stdout",
     "output_type": "stream",
     "text": [
      "[1, 2, 3, 4, 5, 6, 7, 8, 9, 10, 11, 12, 13, 14, 15, 16, 17, 18, 19, 20, 21, 22, 23, 24, 25, 26, 27, 28, 29, 30, 31, 32, 33, 34, 35, 36, 37, 38, 39, 40, 41, 42, 43, 44, 45, 46, 47, 48, 49, 50]\n"
     ]
    }
   ],
   "source": [
    "listINT=[]\n",
    "for x in range(1,51):\n",
    "  x= listINT.append(x)\n",
    "\n",
    "print(listINT)"
   ]
  },
  {
   "cell_type": "markdown",
   "metadata": {
    "id": "sHyJspOqv_ja"
   },
   "source": [
    "#2. Use a list comprehension to create and print a list of even numbers starting with 2 and ending with 200.\n"
   ]
  },
  {
   "cell_type": "code",
   "execution_count": 3,
   "metadata": {
    "colab": {
     "base_uri": "https://localhost:8080/"
    },
    "executionInfo": {
     "elapsed": 386,
     "status": "ok",
     "timestamp": 1739776386676,
     "user": {
      "displayName": "Abdulrahim alj",
      "userId": "17414816726114892880"
     },
     "user_tz": -180
    },
    "id": "-n7BjtqgwAxg",
    "outputId": "ee6d3e1a-1550-4d5e-807e-8f007ff2aca4"
   },
   "outputs": [
    {
     "name": "stdout",
     "output_type": "stream",
     "text": [
      "[2, 4, 6, 8, 10, 12, 14, 16, 18, 20, 22, 24, 26, 28, 30, 32, 34, 36, 38, 40, 42, 44, 46, 48, 50, 52, 54, 56, 58, 60, 62, 64, 66, 68, 70, 72, 74, 76, 78, 80, 82, 84, 86, 88, 90, 92, 94, 96, 98, 100, 102, 104, 106, 108, 110, 112, 114, 116, 118, 120, 122, 124, 126, 128, 130, 132, 134, 136, 138, 140, 142, 144, 146, 148, 150, 152, 154, 156, 158, 160, 162, 164, 166, 168, 170, 172, 174, 176, 178, 180, 182, 184, 186, 188, 190, 192, 194, 196, 198]\n"
     ]
    }
   ],
   "source": [
    "listINT2=[]\n",
    "for x in range(2,200):\n",
    "  if x%2==0:\n",
    "    x= listINT2.append(x)\n",
    "\n",
    "print(listINT2)"
   ]
  },
  {
   "cell_type": "markdown",
   "metadata": {
    "id": "ZmeUE_rxwcJC"
   },
   "source": [
    "#3. Use a list comprehension to create and print a list containing all elements of the 10 x 4 array below.\n"
   ]
  },
  {
   "cell_type": "code",
   "execution_count": 4,
   "metadata": {
    "executionInfo": {
     "elapsed": 375,
     "status": "ok",
     "timestamp": 1739777733376,
     "user": {
      "displayName": "Abdulrahim alj",
      "userId": "17414816726114892880"
     },
     "user_tz": -180
    },
    "id": "eyckWP23we_Y"
   },
   "outputs": [],
   "source": [
    "a = [[0.84062117, 0.48006452, 0.7876326 , 0.77109654],\n",
    "       [0.44409793, 0.09014516, 0.81835917, 0.87645456],\n",
    "       [0.7066597 , 0.09610873, 0.41247947, 0.57433389],\n",
    "       [0.29960807, 0.42315023, 0.34452557, 0.4751035 ],\n",
    "       [0.17003563, 0.46843998, 0.92796258, 0.69814654],\n",
    "       [0.41290051, 0.19561071, 0.16284783, 0.97016248],\n",
    "       [0.71725408, 0.87702738, 0.31244595, 0.76615487],\n",
    "       [0.20754036, 0.57871812, 0.07214068, 0.40356048],\n",
    "       [0.12149553, 0.53222417, 0.9976855 , 0.12536346],\n",
    "       [0.80930099, 0.50962849, 0.94555126, 0.33364763]];"
   ]
  },
  {
   "cell_type": "code",
   "execution_count": 5,
   "metadata": {
    "colab": {
     "base_uri": "https://localhost:8080/"
    },
    "executionInfo": {
     "elapsed": 364,
     "status": "ok",
     "timestamp": 1739781934495,
     "user": {
      "displayName": "Abdulrahim alj",
      "userId": "17414816726114892880"
     },
     "user_tz": -180
    },
    "id": "i528_MTk1wTh",
    "outputId": "a6d40bde-fe05-4648-bc0c-1f125ac3f357"
   },
   "outputs": [
    {
     "name": "stdout",
     "output_type": "stream",
     "text": [
      "[0.84062117, 0.48006452, 0.7876326, 0.77109654, 0.44409793, 0.09014516, 0.81835917, 0.87645456, 0.7066597, 0.09610873, 0.41247947, 0.57433389, 0.29960807, 0.42315023, 0.34452557, 0.4751035, 0.17003563, 0.46843998, 0.92796258, 0.69814654, 0.41290051, 0.19561071, 0.16284783, 0.97016248, 0.71725408, 0.87702738, 0.31244595, 0.76615487, 0.20754036, 0.57871812, 0.07214068, 0.40356048, 0.12149553, 0.53222417, 0.9976855, 0.12536346, 0.80930099, 0.50962849, 0.94555126, 0.33364763]\n"
     ]
    }
   ],
   "source": [
    "list4 = [e for row in a for e in row]\n",
    "print(list4)"
   ]
  },
  {
   "cell_type": "markdown",
   "metadata": {
    "id": "QpPb0DG4173k"
   },
   "source": [
    "#4. Add a condition to the list comprehension above so that only values greater than or equal to 0.5 are printed.\n"
   ]
  },
  {
   "cell_type": "code",
   "execution_count": 6,
   "metadata": {
    "colab": {
     "base_uri": "https://localhost:8080/"
    },
    "executionInfo": {
     "elapsed": 363,
     "status": "ok",
     "timestamp": 1739782164858,
     "user": {
      "displayName": "Abdulrahim alj",
      "userId": "17414816726114892880"
     },
     "user_tz": -180
    },
    "id": "xBYF7dqJ19GH",
    "outputId": "bce49ba3-e3f9-4bda-cdb1-76142e43445a"
   },
   "outputs": [
    {
     "name": "stdout",
     "output_type": "stream",
     "text": [
      "[0.84062117, 0.7876326, 0.77109654, 0.81835917, 0.87645456, 0.7066597, 0.57433389, 0.92796258, 0.69814654, 0.97016248, 0.71725408, 0.87702738, 0.76615487, 0.57871812, 0.53222417, 0.9976855, 0.80930099, 0.50962849, 0.94555126]\n"
     ]
    }
   ],
   "source": [
    "\n",
    "list5 = [e for e in list4 if e >= 0.5]\n",
    "print(list5)"
   ]
  },
  {
   "cell_type": "markdown",
   "metadata": {
    "id": "t35ncyK639YQ"
   },
   "source": [
    "#5. Use a list comprehension to create and print a list containing all elements of the 5 x 2 x 3 array below.\n"
   ]
  },
  {
   "cell_type": "code",
   "execution_count": 7,
   "metadata": {
    "executionInfo": {
     "elapsed": 474,
     "status": "ok",
     "timestamp": 1739778438365,
     "user": {
      "displayName": "Abdulrahim alj",
      "userId": "17414816726114892880"
     },
     "user_tz": -180
    },
    "id": "E0E3fp-K4AjC"
   },
   "outputs": [],
   "source": [
    "b = [[[0.55867166, 0.06210792, 0.08147297],\n",
    "        [0.82579068, 0.91512478, 0.06833034]],\n",
    "\n",
    "       [[0.05440634, 0.65857693, 0.30296619],\n",
    "        [0.06769833, 0.96031863, 0.51293743]],\n",
    "\n",
    "       [[0.09143215, 0.71893382, 0.45850679],\n",
    "        [0.58256464, 0.59005654, 0.56266457]],\n",
    "\n",
    "       [[0.71600294, 0.87392666, 0.11434044],\n",
    "        [0.8694668 , 0.65669313, 0.10708681]],\n",
    "\n",
    "       [[0.07529684, 0.46470767, 0.47984544],\n",
    "        [0.65368638, 0.14901286, 0.23760688]]];"
   ]
  },
  {
   "cell_type": "code",
   "execution_count": 8,
   "metadata": {
    "colab": {
     "base_uri": "https://localhost:8080/"
    },
    "executionInfo": {
     "elapsed": 405,
     "status": "ok",
     "timestamp": 1739781848781,
     "user": {
      "displayName": "Abdulrahim alj",
      "userId": "17414816726114892880"
     },
     "user_tz": -180
    },
    "id": "5fUYV0rA5FTU",
    "outputId": "32b2d8fc-84c0-4e30-bad0-802810c85a25"
   },
   "outputs": [
    {
     "name": "stdout",
     "output_type": "stream",
     "text": [
      "[0.55867166, 0.06210792, 0.08147297, 0.82579068, 0.91512478, 0.06833034, 0.05440634, 0.65857693, 0.30296619, 0.06769833, 0.96031863, 0.51293743, 0.09143215, 0.71893382, 0.45850679, 0.58256464, 0.59005654, 0.56266457, 0.71600294, 0.87392666, 0.11434044, 0.8694668, 0.65669313, 0.10708681, 0.07529684, 0.46470767, 0.47984544, 0.65368638, 0.14901286, 0.23760688]\n"
     ]
    }
   ],
   "source": [
    "\n",
    "list6 = [e for sublist in b for inner_list in sublist for e in inner_list]\n",
    "print(list6)"
   ]
  },
  {
   "cell_type": "code",
   "execution_count": null,
   "metadata": {
    "id": "06xPeWVP5PAM"
   },
   "outputs": [],
   "source": []
  },
  {
   "cell_type": "markdown",
   "metadata": {
    "id": "4RYZoAJY5Pgm"
   },
   "source": [
    "#6. Add a condition to the list comprehension above so that the last value in each subarray is printed, but only if it is less than or equal to 0.5."
   ]
  },
  {
   "cell_type": "code",
   "execution_count": 9,
   "metadata": {
    "colab": {
     "base_uri": "https://localhost:8080/"
    },
    "executionInfo": {
     "elapsed": 371,
     "status": "ok",
     "timestamp": 1739782519088,
     "user": {
      "displayName": "Abdulrahim alj",
      "userId": "17414816726114892880"
     },
     "user_tz": -180
    },
    "id": "wopiK5YZ5S5v",
    "outputId": "94ab57c5-4b4f-43bf-9e48-b2bee5de5c31"
   },
   "outputs": [
    {
     "name": "stdout",
     "output_type": "stream",
     "text": [
      "[0.08147297, 0.06833034, 0.30296619, 0.45850679, 0.11434044, 0.10708681, 0.47984544, 0.23760688]\n"
     ]
    }
   ],
   "source": [
    "\n",
    "\n",
    "list7 = [il[-1] for sublist in b for il in sublist if il[-1] <= 0.5]\n",
    "print(list7)\n",
    "\n"
   ]
  }
 ],
 "metadata": {
  "colab": {
   "authorship_tag": "ABX9TyPPAhrcuoMx/mfiLbYQ4rDi",
   "provenance": []
  },
  "kernelspec": {
   "display_name": "Python 3",
   "name": "python3"
  },
  "language_info": {
   "codemirror_mode": {
    "name": "ipython",
    "version": 3
   },
   "file_extension": ".py",
   "mimetype": "text/x-python",
   "name": "python",
   "nbconvert_exporter": "python",
   "pygments_lexer": "ipython3",
   "version": "3.11.4"
  }
 },
 "nbformat": 4,
 "nbformat_minor": 0
}
